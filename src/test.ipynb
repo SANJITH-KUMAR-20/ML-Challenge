{
 "cells": [
  {
   "cell_type": "markdown",
   "id": "1b70b34e",
   "metadata": {},
   "source": [
    "### Basic library imports"
   ]
  },
  {
   "cell_type": "code",
   "execution_count": 1,
   "id": "719d15af",
   "metadata": {},
   "outputs": [],
   "source": [
    "import os\n",
    "import pandas as pd\n",
    "import re"
   ]
  },
  {
   "cell_type": "markdown",
   "id": "b8911e33",
   "metadata": {},
   "source": [
    "### Read Dataset"
   ]
  },
  {
   "cell_type": "code",
   "execution_count": 2,
   "id": "d3136aac",
   "metadata": {},
   "outputs": [],
   "source": [
    "DATASET_FOLDER = '../dataset/'\n",
    "train = pd.read_csv(os.path.join(DATASET_FOLDER, 'train.csv'))\n",
    "test = pd.read_csv(os.path.join(DATASET_FOLDER, 'test.csv'))\n",
    "sample_test = pd.read_csv(os.path.join(DATASET_FOLDER, 'sample_test.csv'))\n",
    "sample_test_out = pd.read_csv(os.path.join(DATASET_FOLDER, 'sample_test_out.csv'))"
   ]
  },
  {
   "cell_type": "markdown",
   "id": "60ebd689",
   "metadata": {},
   "source": [
    "### Run Sanity check using src/sanity.py"
   ]
  },
  {
   "cell_type": "code",
   "execution_count": 3,
   "id": "81bb3988",
   "metadata": {},
   "outputs": [
    {
     "name": "stdout",
     "output_type": "stream",
     "text": [
      "Parsing successfull for file: ../dataset/sample_test_out.csv\n"
     ]
    }
   ],
   "source": [
    "!python sanity.py --test_filename ../dataset/sample_test.csv --output_filename ../dataset/sample_test_out.csv"
   ]
  },
  {
   "cell_type": "code",
   "execution_count": 4,
   "id": "5aa79459",
   "metadata": {},
   "outputs": [
    {
     "name": "stdout",
     "output_type": "stream",
     "text": [
      "Error: Invalid unit [lbs] found in 6.75 lbs. Allowed units: {'milligram', 'gallon', 'microgram', 'volt', 'inch', 'fluid ounce', 'kilovolt', 'gram', 'kilogram', 'metre', 'cubic inch', 'watt', 'foot', 'centimetre', 'pound', 'pint', 'yard', 'centilitre', 'litre', 'decilitre', 'millilitre', 'microlitre', 'ounce', 'imperial gallon', 'cup', 'quart', 'ton', 'millivolt', 'millimetre', 'cubic foot', 'kilowatt'}\n"
     ]
    }
   ],
   "source": [
    "!python sanity.py --test_filename ../dataset/sample_test.csv --output_filename ../dataset/sample_test_out_fail.csv"
   ]
  },
  {
   "cell_type": "markdown",
   "id": "dbe930a8",
   "metadata": {},
   "source": [
    "### Download images"
   ]
  },
  {
   "cell_type": "code",
   "execution_count": null,
   "id": "a3d1aad8",
   "metadata": {},
   "outputs": [],
   "source": [
    "from utils import download_images\n",
    "download_images(train['image_link'], '../images')"
   ]
  },
  {
   "cell_type": "code",
   "execution_count": 12,
   "id": "89aaba53",
   "metadata": {},
   "outputs": [],
   "source": [
    "assert len(os.listdir('../images')) > 0"
   ]
  },
  {
   "cell_type": "markdown",
   "id": "b5c51918",
   "metadata": {},
   "source": [
    "**PreProcess**"
   ]
  },
  {
   "cell_type": "code",
   "execution_count": 50,
   "id": "1b6da1a6",
   "metadata": {},
   "outputs": [],
   "source": [
    "df_train = pd.read_csv(\"C://Users//ASUS//Desktop//student_resource 3//dataset//train.csv\")"
   ]
  },
  {
   "cell_type": "code",
   "execution_count": 49,
   "id": "e342e4d3",
   "metadata": {},
   "outputs": [
    {
     "data": {
      "text/plain": [
       "924"
      ]
     },
     "execution_count": 49,
     "metadata": {},
     "output_type": "execute_result"
    }
   ],
   "source": [
    "len(df_test['group_id'].unique())"
   ]
  },
  {
   "cell_type": "code",
   "execution_count": 48,
   "id": "112439fb",
   "metadata": {},
   "outputs": [],
   "source": [
    "df_test = pd.read_csv(\"C://Users//ASUS//Desktop//student_resource 3//dataset//test.csv\")"
   ]
  },
  {
   "cell_type": "code",
   "execution_count": 54,
   "id": "deafcffb",
   "metadata": {},
   "outputs": [
    {
     "data": {
      "text/plain": [
       "1"
      ]
     },
     "execution_count": 54,
     "metadata": {},
     "output_type": "execute_result"
    }
   ],
   "source": [
    "len(set(train['group_id'].unique().tolist()).difference(set(df_test['group_id'].unique().tolist())))"
   ]
  },
  {
   "cell_type": "code",
   "execution_count": 4,
   "id": "3be68735",
   "metadata": {},
   "outputs": [],
   "source": [
    "def cross_check_test_groups(df,filtered_groups, column):\n",
    "    filtered_grp = list(df[column].unique())\n",
    "    filtered_grp, filtered_groups = set(filtered_grp), set(filtered_groups)\n",
    "    filtered_groups_difference = filtered_groups.difference(filtered_grp)\n",
    "    return filtered_groups_difference, len(filtered_groups_difference)"
   ]
  },
  {
   "cell_type": "code",
   "execution_count": 5,
   "id": "f64a9937",
   "metadata": {},
   "outputs": [],
   "source": [
    "def filter_by_grp(df,df_test,column):\n",
    "    grp = df.groupby(column)\n",
    "    filtered_grp = [key for key, group in grp if len(group) >= 100]\n",
    "    diff, len_of_diff = cross_check_test_groups(df_test,filtered_grp,'group_id')\n",
    "    if len_of_diff > 0:\n",
    "        filtered_grp.extend(list(diff))\n",
    "    filtered_df = df[df[column].isin(filtered_grp)]\n",
    "    return filtered_df, filtered_grp"
   ]
  },
  {
   "cell_type": "code",
   "execution_count": 6,
   "id": "f5c368d2",
   "metadata": {},
   "outputs": [],
   "source": [
    "def filter_data_without_images(df : pd.DataFrame):\n",
    "    to_be_included = []\n",
    "    for i in range(len(df)):\n",
    "        img_path = df.loc[i]['image_link'].split(\"/\")[-1]\n",
    "        img_path = os.path.join(\"C://Users//ASUS//Desktop//student_resource 3//images\",img_path)\n",
    "        if not os.path.exists(img_path):\n",
    "            continue\n",
    "        to_be_included.append(df.loc[i]['image_link'])\n",
    "    out = df[df['image_link'].isin(to_be_included)]\n",
    "    return out"
   ]
  },
  {
   "cell_type": "code",
   "execution_count": 7,
   "id": "d283777d",
   "metadata": {},
   "outputs": [],
   "source": [
    "data = filter_data_without_images(df_train)"
   ]
  },
  {
   "cell_type": "code",
   "execution_count": 8,
   "id": "1145fe9d",
   "metadata": {},
   "outputs": [],
   "source": [
    "data, filtered_groups = filter_by_grp(data,df_test,'group_id')"
   ]
  },
  {
   "cell_type": "code",
   "execution_count": 9,
   "id": "97ad44a0",
   "metadata": {},
   "outputs": [],
   "source": [
    "diff, len_of_diff = cross_check_test_groups(df_test,filtered_groups,'group_id')"
   ]
  },
  {
   "cell_type": "code",
   "execution_count": 11,
   "id": "a2ddd66e",
   "metadata": {},
   "outputs": [
    {
     "data": {
      "text/plain": [
       "1"
      ]
     },
     "execution_count": 11,
     "metadata": {},
     "output_type": "execute_result"
    }
   ],
   "source": [
    "len_of_diff"
   ]
  },
  {
   "cell_type": "code",
   "execution_count": 13,
   "id": "be06277f",
   "metadata": {},
   "outputs": [],
   "source": [
    "data.to_csv(\"train_data.csv\")"
   ]
  },
  {
   "cell_type": "code",
   "execution_count": 3,
   "id": "ab760d22",
   "metadata": {},
   "outputs": [],
   "source": [
    "unit_set = {\n",
    "    'cm', 'ft', 'in', 'm', 'mm', 'yd',  # Length (width, depth, height)\n",
    "    'g', 'gm', 'gms', 'kg', 'µg', 'mcg', 'mg', 'oz', 'ounce', 'lb', 'lbs', 'ton', 'tons',  # Weight (item_weight, maximum_weight_recommendation)\n",
    "    'kv', 'mv', 'v', 'volt',  # Voltage\n",
    "    'kw', 'w', 'watt',  # Wattage\n",
    "    'cl', 'centilitre', 'cu ft', 'cubic foot', 'cu in', 'cubic inch', 'cup', 'dl', 'decilitre', \n",
    "    'fl oz', 'fluid ounce', 'gal', 'gallon', 'imp gal', 'imperial gallon', 'l', 'litre', 'µl', 'microlitre', \n",
    "    'ml', 'millilitre', 'pt', 'pint', 'qt', 'quart'  # Volume (item_volume)\n",
    "}\n"
   ]
  },
  {
   "cell_type": "code",
   "execution_count": 37,
   "id": "9b809c9e",
   "metadata": {},
   "outputs": [],
   "source": [
    "def clean_extracted_value(match):\n",
    "    number = re.sub(r'[^\\d.]', '', match.group(1))\n",
    "    if number.count('.') > 1:\n",
    "        parts = number.split('.')\n",
    "        number = f\"{parts[0]}.{parts[1]}\"\n",
    "    \n",
    "\n",
    "    unit = match.group(2).strip()\n",
    "    return f\"{number} {unit}\"\n",
    "\n",
    "pattern = re.compile(r'([0-9a-zA-Z.]+)\\s*([a-zA-Z]+)')\n"
   ]
  },
  {
   "cell_type": "code",
   "execution_count": 39,
   "id": "9cdce422",
   "metadata": {},
   "outputs": [
    {
     "name": "stdout",
     "output_type": "stream",
     "text": [
      "['14.54 kv', '54.564 mm', '3 mm']\n"
     ]
    }
   ],
   "source": [
    "unit_pattern = r'\\b(?:' + '|'.join(re.escape(unit) for unit in unit_set) + r')\\b'\n",
    "\n",
    "# Compile the regex pattern\n",
    "pattern = re.compile(r'(\\d+\\.?\\d*)\\s*(' + unit_pattern + r')')\n",
    "\n",
    "def extract_units(text):\n",
    "    matches = pattern.findall(text)\n",
    "    results = [f\"{match[0]} {match[1]}\" for match in matches]\n",
    "    return results\n",
    "\n",
    "# Example usage\n",
    "text = \"weight = 17lbs, 14.54 kv, 54.564   mm, 23k.3s3 mm\"\n",
    "extracted_units = extract_units(text)\n",
    "print(extracted_units)"
   ]
  },
  {
   "cell_type": "code",
   "execution_count": 38,
   "id": "dbdc53ec",
   "metadata": {},
   "outputs": [
    {
     "name": "stdout",
     "output_type": "stream",
     "text": [
      "[' t', '17 s', '14.54 kv', '54.564 mm', '23.33 mm']\n"
     ]
    }
   ],
   "source": [
    "\n",
    "text = \"weight = 17lbs, 14.54 kv, 54.564   mm, 23k.3s3 mm\"\n",
    "\n",
    "# Apply the regex and clean each match\n",
    "cleaned_results = [clean_extracted_value(match) for match in pattern.finditer(text)]\n",
    "\n",
    "print(cleaned_results)"
   ]
  },
  {
   "cell_type": "code",
   "execution_count": 30,
   "id": "e5e2ad31",
   "metadata": {},
   "outputs": [],
   "source": [
    "res = [i for i in pattern.finditer(text)]"
   ]
  },
  {
   "cell_type": "code",
   "execution_count": 35,
   "id": "4f3cff52",
   "metadata": {},
   "outputs": [],
   "source": [
    "number = re.sub(r'[^\\d.]', '', res[0].group(1))"
   ]
  },
  {
   "cell_type": "code",
   "execution_count": 36,
   "id": "20c2874c",
   "metadata": {},
   "outputs": [
    {
     "data": {
      "text/plain": [
       "'17'"
      ]
     },
     "execution_count": 36,
     "metadata": {},
     "output_type": "execute_result"
    }
   ],
   "source": [
    "number"
   ]
  },
  {
   "cell_type": "markdown",
   "id": "a9b3cd52",
   "metadata": {},
   "source": [
    "**transform**"
   ]
  },
  {
   "cell_type": "code",
   "execution_count": 80,
   "id": "7c7a8260",
   "metadata": {},
   "outputs": [],
   "source": [
    "from sklearn.preprocessing import OneHotEncoder\n",
    "import torch\n",
    "from transformers import (\n",
    "    DistilBertTokenizer, DistilBertModel, \n",
    "    RobertaTokenizer, RobertaModel, \n",
    "    AutoTokenizer, AutoModel\n",
    ")\n",
    "from sklearn.decomposition import PCA"
   ]
  },
  {
   "cell_type": "code",
   "execution_count": 40,
   "id": "5a3cfb37",
   "metadata": {},
   "outputs": [],
   "source": [
    "train = pd.read_csv(\"C://Users//ASUS//Desktop//student_resource 3//train_data.csv\")"
   ]
  },
  {
   "cell_type": "code",
   "execution_count": 44,
   "id": "42f6493a",
   "metadata": {},
   "outputs": [
    {
     "data": {
      "text/plain": [
       "384"
      ]
     },
     "execution_count": 44,
     "metadata": {},
     "output_type": "execute_result"
    }
   ],
   "source": [
    "len(train['group_id'].unique())"
   ]
  },
  {
   "cell_type": "code",
   "execution_count": 57,
   "id": "2fb52833",
   "metadata": {},
   "outputs": [
    {
     "data": {
      "text/plain": [
       "286"
      ]
     },
     "execution_count": 57,
     "metadata": {},
     "output_type": "execute_result"
    }
   ],
   "source": [
    "len(set(df_test['group_id'].unique().tolist()).difference(set(df_train['group_id'].unique().tolist())))"
   ]
  },
  {
   "cell_type": "code",
   "execution_count": null,
   "id": "87447af6",
   "metadata": {},
   "outputs": [],
   "source": [
    "set(df_test['group_id'].unique().tolist())"
   ]
  },
  {
   "cell_type": "code",
   "execution_count": 60,
   "id": "30d861e9",
   "metadata": {},
   "outputs": [],
   "source": [
    "encoder = OneHotEncoder()\n",
    "data = encoder.fit_transform(df_train[['group_id']])"
   ]
  },
  {
   "cell_type": "code",
   "execution_count": 62,
   "id": "81a583f7",
   "metadata": {},
   "outputs": [
    {
     "data": {
      "text/plain": [
       "array([[0., 0., 0., ..., 0., 0., 0.],\n",
       "       [0., 0., 0., ..., 0., 0., 0.],\n",
       "       [0., 0., 0., ..., 0., 0., 0.],\n",
       "       ...,\n",
       "       [0., 0., 0., ..., 0., 0., 0.],\n",
       "       [0., 0., 0., ..., 0., 0., 0.],\n",
       "       [0., 0., 0., ..., 0., 0., 0.]])"
      ]
     },
     "execution_count": 62,
     "metadata": {},
     "output_type": "execute_result"
    }
   ],
   "source": [
    "data.toarray()"
   ]
  },
  {
   "cell_type": "code",
   "execution_count": 67,
   "id": "de15cc15",
   "metadata": {},
   "outputs": [
    {
     "data": {
      "text/plain": [
       "array(['item_weight', 'item_volume', 'voltage', 'wattage',\n",
       "       'maximum_weight_recommendation', 'height', 'depth', 'width'],\n",
       "      dtype=object)"
      ]
     },
     "execution_count": 67,
     "metadata": {},
     "output_type": "execute_result"
    }
   ],
   "source": [
    "df_train['entity_name'].unique()"
   ]
  },
  {
   "cell_type": "code",
   "execution_count": 77,
   "id": "b9aad200",
   "metadata": {},
   "outputs": [],
   "source": [
    "class EmbedColumns:\n",
    "\n",
    "    def __init__(self, use_pca=True, pca_components=200):\n",
    "        self.tokenizer = None\n",
    "        self.model = None\n",
    "        self.pca = PCA(n_components=pca_components) if use_pca else None\n",
    "        self.use_pca = use_pca\n",
    "\n",
    "    def __set_model(self, kind):\n",
    "        if kind == \"DistilBERT\":\n",
    "            self.tokenizer = DistilBertTokenizer.from_pretrained(\"distilbert-base-uncased\")\n",
    "            self.model = DistilBertModel.from_pretrained(\"distilbert-base-uncased\")\n",
    "        elif kind == \"RoBERTa\":\n",
    "            self.tokenizer = RobertaTokenizer.from_pretrained(\"roberta-base\")\n",
    "            self.model = RobertaModel.from_pretrained(\"roberta-base\")\n",
    "        elif kind == \"MiniLM\":\n",
    "            self.tokenizer = AutoTokenizer.from_pretrained(\"sentence-transformers/all-MiniLM-L6-v2\")\n",
    "            self.model = AutoModel.from_pretrained(\"sentence-transformers/all-MiniLM-L6-v2\")\n",
    "        else:\n",
    "            raise ValueError(f\"Model kind '{kind}' not supported\")\n",
    "\n",
    "    def __get_pca(self, x):\n",
    "        if self.pca is not None:\n",
    "            return self.pca.transform(x.reshape(1, -1))\n",
    "        return x\n",
    "\n",
    "    def __apply_pooling(self, out, strategy='mean'):\n",
    "        \"\"\"\n",
    "        Applies pooling strategies to get a fixed-size embedding.\n",
    "        'mean' or 'max' pooling supported.\n",
    "        \"\"\"\n",
    "        if strategy == 'mean':\n",
    "            return out.mean(dim=1)  # Mean pooling across tokens\n",
    "        elif strategy == 'max':\n",
    "            return out.max(dim=1).values  # Max pooling across tokens\n",
    "        elif strategy == 'cls':\n",
    "            return out[:, 0, :]  # CLS token embedding\n",
    "        else:\n",
    "            raise ValueError(f\"Pooling strategy '{strategy}' not supported\")\n",
    "\n",
    "    def fit_pca(self, dataset_embeddings):\n",
    "        \"\"\"\n",
    "        Fit PCA to a larger dataset of embeddings to avoid fitting on single inputs.\n",
    "        \"\"\"\n",
    "        if self.pca:\n",
    "            self.pca.fit(dataset_embeddings)\n",
    "\n",
    "    def get_embeddings(self, val, kind=\"DistilBERT\", pooling_strategy='mean'):\n",
    "        \"\"\"\n",
    "        Get embeddings for the input text. Supports optional pooling strategies.\n",
    "        \"\"\"\n",
    "        self.__set_model(kind)\n",
    "        inputs = self.tokenizer(val, return_tensors='pt')\n",
    "\n",
    "        with torch.no_grad():\n",
    "            outputs = self.model(**inputs)\n",
    "\n",
    "        hidden_states = outputs.last_hidden_state\n",
    "        pooled_output = self.__apply_pooling(hidden_states, strategy=pooling_strategy)\n",
    "\n",
    "        # Convert to numpy\n",
    "        embedding = pooled_output.squeeze(0).numpy()\n",
    "\n",
    "        # Apply PCA if enabled\n",
    "        if self.use_pca:\n",
    "            embedding = self.__get_pca(embedding)\n",
    "\n",
    "        return embedding"
   ]
  },
  {
   "cell_type": "code",
   "execution_count": 78,
   "id": "b794f6b3",
   "metadata": {},
   "outputs": [],
   "source": [
    "embed = EmbedColumns()"
   ]
  },
  {
   "cell_type": "code",
   "execution_count": 79,
   "id": "500e080a",
   "metadata": {},
   "outputs": [
    {
     "name": "stderr",
     "output_type": "stream",
     "text": [
      "c:\\Users\\ASUS\\Desktop\\student_resource 3\\env\\Lib\\site-packages\\transformers\\tokenization_utils_base.py:1601: FutureWarning: `clean_up_tokenization_spaces` was not set. It will be set to `True` by default. This behavior will be depracted in transformers v4.45, and will be then set to `False` by default. For more details check this issue: https://github.com/huggingface/transformers/issues/31884\n",
      "  warnings.warn(\n"
     ]
    },
    {
     "name": "stdout",
     "output_type": "stream",
     "text": [
      "[ 6.11527979e-01 -2.28224769e-01 -4.01042849e-02 -2.47147188e-01\n",
      "  4.35910195e-01 -1.66923553e-02 -7.56520554e-02  7.90213719e-02\n",
      " -2.58715481e-01 -3.08596820e-01 -6.49185032e-02 -1.68260247e-01\n",
      "  5.50051779e-02  5.48649311e-01 -2.42879018e-01 -1.05485179e-01\n",
      "  3.05630803e-01  9.46164653e-02  8.54177415e-01  1.71992838e-01\n",
      "  7.55001605e-03  1.70443505e-01  4.06949878e-01  2.58254349e-01\n",
      " -1.13708079e-01 -1.55428592e-02 -9.15202722e-02  1.37162656e-01\n",
      " -1.69410974e-01 -6.69397786e-02  3.10414165e-01 -3.01319897e-01\n",
      "  2.40785718e-01  3.84524465e-01 -3.98116350e-01 -4.17677760e-01\n",
      " -8.69933665e-02  1.55031562e-01 -1.93881586e-01 -1.76166773e-01\n",
      "  2.04109088e-01 -6.25809550e-01 -3.99705544e-02 -2.62136191e-01\n",
      "  4.28313136e-01 -2.23178893e-01  5.17215312e-01 -1.09079719e-01\n",
      " -1.40012279e-02 -1.33956671e-01 -6.63979232e-01 -9.14008170e-03\n",
      " -3.65600467e-01  4.92871344e-01  2.19606534e-01 -1.17567301e-01\n",
      " -1.12364128e-01  2.11490214e-01  3.42640132e-01 -1.90454960e-01\n",
      "  2.82018125e-01 -1.46814942e-01 -5.51242568e-02  1.85563490e-01\n",
      "  2.20069170e-01  1.96413845e-01  2.94062048e-01 -1.51632518e-01\n",
      " -3.85587811e-01  5.54709435e-01 -3.34386259e-01  3.80912960e-01\n",
      " -1.88312545e-01 -7.71116093e-03  1.78394720e-01 -2.52004862e-02\n",
      "  9.98598784e-02  8.83415341e-04 -1.00772366e-01  8.38921368e-02\n",
      " -7.57807046e-02 -2.91720837e-01  3.83198589e-01 -3.02986175e-01\n",
      " -2.10254669e-01 -8.06301534e-02 -2.15547457e-01  2.89318338e-03\n",
      "  4.39668328e-01  1.19962662e-01 -4.05484475e-02 -9.11302418e-02\n",
      " -1.92909449e-01  1.40021548e-01  6.82898834e-02 -6.59577847e-01\n",
      " -3.33541542e-01 -1.84423387e-01  6.08887136e-01 -1.86756864e-01\n",
      "  3.03440064e-01 -8.07661489e-02 -2.99358875e-01 -4.99846898e-02\n",
      " -3.68299097e-01 -2.88053125e-01  2.40100309e-01 -1.36130974e-02\n",
      " -5.96034154e-03 -5.45994818e-01 -5.12092352e-01  4.53014314e-01\n",
      "  1.04977898e-01 -2.52311230e-01 -5.82101643e-01  4.47128534e-01\n",
      "  9.01673511e-02  1.07399277e-01  2.35218853e-01  1.97989702e-01\n",
      " -3.40926088e-03  4.83648837e-01  1.98810309e-01  3.57767165e-01\n",
      " -7.95280859e-02  3.32289547e-01  2.55172074e-01  2.16457918e-01\n",
      "  2.04456627e-01 -2.64243558e-02 -2.40300387e-01  2.76068300e-01\n",
      "  1.44580498e-01 -2.99065977e-01 -3.95418406e-01 -1.49879605e-02\n",
      "  4.56469387e-01  3.21481586e-01  7.30637312e-02 -2.34456733e-01\n",
      "  1.43465027e-01  9.49003875e-01  3.62292349e-01  2.24649444e-01\n",
      "  1.77880496e-01 -3.83870415e-02 -1.07049190e-01 -1.11278608e-01\n",
      "  7.39326030e-02  1.66141719e-01  6.77780434e-02  3.36650580e-01\n",
      " -4.90391970e-01 -3.97687882e-01 -1.04921460e-02 -1.21691428e-01\n",
      "  3.10744703e-01  4.97053534e-01 -2.30452940e-01 -7.16024935e-02\n",
      "  4.78106111e-01  3.70445907e-01  5.33102602e-02  6.52328432e-01\n",
      " -1.47813752e-01 -1.38699919e-01 -6.63033426e-02  4.08969939e-01\n",
      "  6.16345555e-02  8.28172565e-02 -3.45133603e-01 -3.34199578e-01\n",
      "  1.31613955e-01  2.42608920e-01  9.11717042e-02  4.59358126e-01\n",
      "  1.36578791e-02 -5.94688244e-02 -3.81742597e-01 -1.47869632e-01\n",
      " -4.95650768e-01  8.55022311e-01 -2.48534605e-01  8.76595974e-02\n",
      "  2.35310480e-01  1.42755434e-02  1.86234534e-01 -4.81165290e-01\n",
      " -1.42685711e-01 -2.29878232e-01  1.05876125e-01 -7.80658796e-02\n",
      " -3.22546363e-01 -4.97828722e-01  5.64971507e-01 -8.52064371e-01\n",
      "  5.13409495e-01 -4.75599349e-01 -4.29487377e-02 -2.61335671e-01\n",
      " -1.24609910e-01 -2.81554222e-01  2.29143411e-01  4.82050240e-01\n",
      " -6.51992798e-01  8.59181285e-01  6.86619952e-02 -2.94377625e-01\n",
      "  3.92370254e-01 -3.24611664e-01 -1.90811992e-01  4.00368311e-02\n",
      " -1.28271610e-01 -4.14700121e-01 -5.57547845e-02 -4.32054937e-01\n",
      " -1.24950871e-01 -5.04236639e-01  1.93149179e-01 -4.98909503e-04\n",
      "  2.18336001e-01  1.14452451e-01  1.83716565e-01  8.19631398e-01\n",
      " -5.19115984e-01  6.99403822e-01  5.39095104e-01  3.57054949e-01\n",
      "  1.70858860e-01 -5.68422914e-01 -2.19737694e-01  2.71860808e-02\n",
      "  1.59710288e-01 -1.73227668e-01 -3.88940036e-01 -8.66945758e-02\n",
      "  3.10405880e-01  7.54884854e-02 -8.31512436e-02  3.43468040e-02\n",
      " -1.50478274e-01  4.45534527e-01  4.92153019e-02  6.01327002e-01\n",
      " -2.06918001e-01  1.05837137e-01  1.47353932e-01 -4.14841264e-01\n",
      "  2.61593580e-01 -1.22169957e-01  9.48856696e-02 -4.47388291e-01\n",
      "  3.05906925e-02  5.18996194e-02 -1.22400016e-01 -1.76814958e-01\n",
      " -1.41202629e-01 -2.85789877e-01 -9.29560065e-02 -8.16332847e-02\n",
      " -2.99687982e-01 -3.66854310e-01  5.35866559e-01 -6.05156481e-01\n",
      " -3.85261834e-01 -1.29414782e-01 -8.85255784e-02 -6.72010034e-02\n",
      "  5.80470741e-01 -5.05299382e-02  6.44859225e-02  1.09491743e-01\n",
      "  2.23265573e-01 -8.55959117e-01 -2.43034914e-01 -7.72845805e-01\n",
      "  2.08667427e-01  2.51270354e-01 -5.70814759e-02  1.81980833e-01\n",
      "  1.87315177e-02  3.51466507e-01 -8.71368647e-02  1.36634260e-01\n",
      "  2.44355768e-01 -2.12404251e-01  3.11427452e-02 -1.39555648e-01\n",
      "  3.84213656e-01 -8.69365335e-01 -3.70528698e-01  2.45040953e-01\n",
      " -2.09605798e-01  1.20682418e-02  2.08058298e-01  1.66384503e-01\n",
      "  4.59981382e-01  3.05120707e-01 -6.56837970e-02 -2.20882714e-01\n",
      " -2.86802709e-01 -3.33333522e-01 -2.05735818e-01 -8.76619145e-02\n",
      " -5.45583963e-02  7.66400322e-02 -2.01413244e-01 -5.94515562e-01\n",
      " -4.58038330e+00 -4.15950239e-01 -3.16392332e-01  1.19882472e-01\n",
      "  5.19216880e-02 -3.48516554e-01  6.30264878e-01  2.39066944e-01\n",
      " -1.36279494e-01 -2.80019306e-02 -5.08130714e-02  6.61602020e-02\n",
      "  9.53434408e-02  5.36189854e-01  4.95298766e-02 -2.92263836e-01\n",
      "  1.40107542e-01 -2.51846373e-01 -9.74591076e-03  5.54565310e-01\n",
      "  3.58037055e-02 -3.06464791e-01  1.61906958e-01 -3.55417520e-01\n",
      " -8.93198177e-02  2.34864816e-01 -4.76860642e-01  3.28986734e-01\n",
      " -6.24406993e-01 -1.69396579e-01 -3.33909571e-01 -2.69974202e-01\n",
      "  3.89268994e-03  2.36909270e-01  7.95841664e-02  5.79181761e-02\n",
      "  9.22474340e-02 -3.56658995e-02  8.12384367e-01  2.45301016e-02\n",
      "  6.78351671e-02  1.37902185e-01  6.16717458e-01  8.76286447e-01\n",
      " -1.70629263e-01  5.25401115e-01 -1.66515447e-03  2.14958489e-01\n",
      " -1.37574464e-01  2.65495479e-01 -9.96830389e-02 -1.37254801e-02\n",
      "  6.53830707e-01 -4.65062767e-01  6.34741932e-02  6.70895651e-02\n",
      " -1.78843841e-01 -9.54140574e-02 -2.64437832e-02 -1.52203441e-01\n",
      " -6.84321105e-01 -4.95247155e-01 -4.75385666e-01  1.36010990e-01\n",
      " -5.50227642e-01  1.40703008e-01 -6.00999951e-01 -2.89976180e-01\n",
      "  2.84563005e-01  1.67504698e-03  1.10996753e-01 -5.97436249e-01\n",
      "  1.30977243e-01 -1.04855192e+00 -2.19284564e-01 -1.53094336e-01\n",
      " -2.80096922e-02  8.58648270e-02  7.61768758e-01 -3.96746784e-01\n",
      " -4.08015102e-01 -2.19527230e-01  3.44707966e-01  3.72106642e-01\n",
      "  2.02294528e-01  1.29771769e-01  6.08383775e-01 -9.55583394e-01\n",
      "  1.61916971e-01  8.77796412e-01  9.13422108e-02  3.51727828e-02\n",
      "  4.90345299e-01 -1.45275950e-01  6.24341555e-02  2.52385527e-01\n",
      "  1.21956497e-01 -1.10274427e-01 -7.12950677e-02 -1.14366449e-02\n",
      " -3.18451107e-01 -1.77993417e-01  8.00673515e-02 -6.19067609e-01\n",
      " -7.48241544e-02  1.62728727e-01 -5.06533623e-01  1.76782906e-03\n",
      " -1.46561161e-01  9.78337675e-02  2.41903886e-01 -3.72970700e-01\n",
      " -1.96982220e-01  9.95772183e-02  2.97544032e-01 -3.10622528e-02\n",
      " -3.13359588e-01  2.82433480e-01  2.95530409e-01  1.52043194e-01\n",
      " -1.16238236e-01  2.74123758e-01 -2.67764211e-01 -5.11878073e-01\n",
      " -4.67143297e-01  1.69265792e-01 -2.90505439e-01 -3.37971777e-01\n",
      " -6.40622377e-01  1.47562280e-01 -7.65370131e-02  4.36733663e-01\n",
      "  6.74329847e-02 -2.82012939e-01 -1.61078572e-02 -2.49762952e-01\n",
      " -5.04763424e-01  4.32054810e-02 -4.13990557e-01  2.23068565e-01\n",
      "  2.83550769e-01 -1.66249409e-01 -3.76429051e-01 -2.58212388e-02\n",
      "  6.03260696e-01  1.65908113e-02 -4.93179202e-01 -1.43462926e-01\n",
      "  5.01691625e-02  2.71360815e-01  3.77451181e-01 -3.32416475e-01\n",
      "  4.21402417e-03  3.02536517e-01 -3.18651736e-01 -6.18681684e-02\n",
      "  4.80170459e-01 -2.27226108e-01 -1.82198331e-01 -1.10414565e-01\n",
      " -2.14577228e-01  8.38285312e-02 -1.25493500e-02 -1.28417492e-01\n",
      "  3.19802821e-01  8.97714078e-01  1.03086695e-01 -3.16930652e-01\n",
      " -2.27077484e-01 -1.49197221e-01  5.85039742e-02 -1.87400073e-01\n",
      "  9.20470729e-02 -2.75673300e-01 -1.07450023e-01 -4.55125012e-02\n",
      "  3.38535160e-02 -4.57540303e-02  3.24507654e-01  6.07919157e-01\n",
      "  2.28687063e-01  1.97052918e-02 -6.61023408e-02  2.18445614e-01\n",
      "  1.29560798e-01 -5.00152647e-01 -9.28821862e-01  1.12475574e-01\n",
      "  3.75439376e-01  4.79115635e-01  6.99316859e-01 -3.97841215e-01\n",
      " -1.22529849e-01 -6.43542290e-01 -4.79610503e-01 -1.14988066e-01\n",
      " -1.22231126e-01  6.43337429e-01 -4.92616035e-02  5.55067062e-02\n",
      " -1.58188231e-02  2.42264330e-01  9.58818495e-02 -8.12180042e-02\n",
      "  2.67924398e-01 -1.85720436e-02  4.46452409e-01  1.09169923e-01\n",
      " -8.43133569e-01  4.98569757e-03  4.16122377e-01 -3.08909655e-01\n",
      "  6.27840757e-02 -3.43495160e-01 -3.48895401e-01 -8.66068527e-02\n",
      "  2.21989334e-01 -9.50421691e-02 -3.22204798e-01 -4.87873346e-01\n",
      " -3.37353528e-01 -3.34169358e-01  1.27871960e-01  8.56971294e-02\n",
      "  1.08060740e-01 -3.28445792e-01  6.52809739e-02 -7.56439149e-01\n",
      "  6.80823624e-02  1.17756851e-01 -3.37955862e-01  1.34860054e-01\n",
      "  3.15852165e-01  9.35140401e-02  2.56780267e-01  1.48469098e-02\n",
      " -1.11422575e+00  3.51502061e-01 -1.47175729e-01  4.36848342e-01\n",
      " -4.64331955e-01 -1.98939338e-01 -4.80345279e-01  7.64195621e-02\n",
      "  6.07807301e-02 -2.62328722e-02  4.96990472e-01  3.54288556e-02\n",
      "  8.75581205e-02  4.22530651e-01 -1.04638979e-01 -2.11744830e-01\n",
      " -1.88139826e-01 -2.65024722e-01  6.61887527e-01 -9.75846589e-01\n",
      "  2.44993061e-01 -7.63229132e-02  2.65347272e-01 -6.96407631e-02\n",
      " -3.50423157e-01 -6.12789951e-02 -2.69433677e-01  6.89632714e-01\n",
      " -2.42709398e-01  4.04876113e-01 -8.83212239e-02  2.23888606e-02\n",
      " -2.96921492e-01  4.48210269e-01 -4.46325630e-01  2.25341730e-02\n",
      "  2.22631276e-01  3.68174255e-01  1.22735582e-01 -3.26585412e-01\n",
      "  2.26520181e-01 -1.41701862e-01 -3.64400625e-01 -2.90178388e-01\n",
      "  5.72283566e-01  8.00395668e-01  7.05690742e-01 -7.96353668e-02\n",
      "  4.11712289e-01  1.82496279e-01 -3.31313431e-01  1.33081436e-01\n",
      " -3.49914670e-01  2.48154759e-01  1.94701463e-01 -5.41175365e-01\n",
      "  6.53496236e-02  2.58431043e-02  1.19844772e-01  1.83644295e-01\n",
      "  7.41539448e-02  3.85516137e-02 -4.78518605e-01  6.98921308e-02\n",
      " -1.62088245e-01  4.66126412e-01  5.23368478e-01 -1.53706908e-01\n",
      " -1.45960420e-01  1.12038784e-01  4.89038117e-02 -2.24859312e-01\n",
      " -1.28774181e-01 -3.51411942e-03 -1.15064912e-01 -1.47689357e-01\n",
      " -3.59967351e-01  2.87919343e-01  3.78375351e-02 -4.22877222e-02\n",
      "  3.76942515e-01 -2.08181053e-01 -3.67356658e-01  5.95675521e-02\n",
      "  4.11540382e-02  4.36992884e-01  2.91738570e-01 -5.17272428e-02\n",
      "  3.62557769e-01  7.92383626e-02 -1.60070121e-01 -4.48323846e-01\n",
      "  1.44724384e-01  2.61889011e-01  3.28882277e-01  3.11134636e-01\n",
      "  8.04613307e-02  5.61884165e-01  5.96539557e-01 -4.92633432e-02\n",
      "  3.92134413e-02 -6.94121839e-03  4.73292917e-02  5.45622170e-01\n",
      "  2.00386822e-01  5.84714293e-01  4.40094143e-01  4.48641181e-01\n",
      " -1.53283030e-03 -1.09411113e-01 -3.70103866e-04  2.50989765e-01\n",
      " -3.23523074e-01  3.25578570e-01  3.63536745e-01 -4.82058793e-01\n",
      "  4.37038660e-01 -6.56807244e-01 -1.94213524e-01 -3.44521813e-02\n",
      "  2.14922845e-01  4.00940448e-01  1.90372720e-01 -6.62913322e-01\n",
      " -3.76933217e-01 -2.47840896e-01  2.15059698e-01 -4.53369737e-01\n",
      "  1.38761476e-03  4.21041101e-01 -1.19610041e-01 -2.94761419e-01\n",
      " -2.50983655e-01 -1.71641991e-01  4.98885959e-01 -4.65165317e-01\n",
      " -2.82672197e-01  5.25194168e-01 -1.08636707e-01  2.49853164e-01\n",
      "  1.97175115e-01  1.80935472e-01 -2.83448160e-01 -4.80170883e-02\n",
      "  3.14471275e-01  2.93678880e-01 -1.73851877e-01 -4.17301357e-01\n",
      "  5.25133014e-01 -7.73698807e-01 -1.85157508e-01  3.26001272e-03\n",
      "  2.89448202e-02 -4.82467204e-01  4.81874347e-01 -1.37660652e-01\n",
      " -3.62557739e-01 -1.44485176e-01  6.49807230e-02 -2.39578068e-01\n",
      " -7.09669515e-02 -4.87543821e-01  6.97097927e-02  2.52980113e-01\n",
      "  7.04811096e-01 -1.33239776e-01  4.68240857e-01 -1.04610376e-01\n",
      " -1.48103669e-01  3.96775305e-01 -2.75593609e-01 -4.08812799e-02\n",
      " -8.24288011e-01 -4.53528643e-01  6.02787495e-01  4.76370156e-02\n",
      " -7.99210072e-02  7.09839091e-02 -4.21611130e-01  2.48919576e-01\n",
      "  9.62522104e-02  3.08386404e-02 -2.54637301e-01 -4.30263489e-01\n",
      " -1.25279069e-01 -3.00493926e-01 -1.27450824e-01  6.69107139e-01\n",
      " -3.57928663e-01 -8.24136198e-01  5.09027541e-02  2.25577831e-01\n",
      "  4.48474102e-02 -9.66272727e-02 -2.33582854e-01  2.05587789e-01\n",
      "  5.05397856e-01 -3.26973855e-01  2.15923399e-01  2.98693120e-01\n",
      "  4.86966819e-01  2.92750299e-02  4.28694189e-01 -4.31936860e-01\n",
      "  2.11692363e-01  2.26132870e-01  5.18190682e-01  5.14080450e-02\n",
      " -1.70369065e+00 -3.02793592e-01 -5.44554234e-01 -2.68628687e-01\n",
      " -6.68833330e-02  4.72481817e-01  3.91688794e-01 -3.10257137e-01\n",
      "  3.94755512e-01  1.53847590e-01  4.09764588e-01  1.12540349e-01\n",
      " -9.97411832e-02 -2.73880661e-02  4.78221446e-01  2.16893360e-01]\n"
     ]
    },
    {
     "ename": "ValueError",
     "evalue": "n_components=200 must be between 0 and min(n_samples, n_features)=1 with svd_solver='full'",
     "output_type": "error",
     "traceback": [
      "\u001b[1;31m---------------------------------------------------------------------------\u001b[0m",
      "\u001b[1;31mValueError\u001b[0m                                Traceback (most recent call last)",
      "Cell \u001b[1;32mIn[79], line 1\u001b[0m\n\u001b[1;32m----> 1\u001b[0m out \u001b[38;5;241m=\u001b[39m \u001b[43membed\u001b[49m\u001b[38;5;241;43m.\u001b[39;49m\u001b[43mget_embeddings\u001b[49m\u001b[43m(\u001b[49m\u001b[38;5;124;43m\"\u001b[39;49m\u001b[38;5;124;43mvoltage\u001b[39;49m\u001b[38;5;124;43m\"\u001b[39;49m\u001b[43m,\u001b[49m\u001b[38;5;124;43m\"\u001b[39;49m\u001b[38;5;124;43mDistilBERT\u001b[39;49m\u001b[38;5;124;43m\"\u001b[39;49m\u001b[43m)\u001b[49m\n",
      "Cell \u001b[1;32mIn[77], line 26\u001b[0m, in \u001b[0;36mEmbedColumns.get_embeddings\u001b[1;34m(self, val, kind)\u001b[0m\n\u001b[0;32m     24\u001b[0m out \u001b[38;5;241m=\u001b[39m out\u001b[38;5;241m.\u001b[39msqueeze(\u001b[38;5;241m0\u001b[39m)\u001b[38;5;241m.\u001b[39mnumpy()\n\u001b[0;32m     25\u001b[0m \u001b[38;5;28mprint\u001b[39m(out)\n\u001b[1;32m---> 26\u001b[0m out \u001b[38;5;241m=\u001b[39m \u001b[38;5;28;43mself\u001b[39;49m\u001b[38;5;241;43m.\u001b[39;49m\u001b[43m__get_pca\u001b[49m\u001b[43m(\u001b[49m\u001b[43mout\u001b[49m\u001b[43m)\u001b[49m\n\u001b[0;32m     27\u001b[0m \u001b[38;5;28;01mreturn\u001b[39;00m out\n",
      "Cell \u001b[1;32mIn[77], line 14\u001b[0m, in \u001b[0;36mEmbedColumns.__get_pca\u001b[1;34m(self, x)\u001b[0m\n\u001b[0;32m     13\u001b[0m \u001b[38;5;28;01mdef\u001b[39;00m \u001b[38;5;21m__get_pca\u001b[39m(\u001b[38;5;28mself\u001b[39m, x):\n\u001b[1;32m---> 14\u001b[0m     \u001b[38;5;28;01mreturn\u001b[39;00m \u001b[38;5;28;43mself\u001b[39;49m\u001b[38;5;241;43m.\u001b[39;49m\u001b[43mpca\u001b[49m\u001b[38;5;241;43m.\u001b[39;49m\u001b[43mfit_transform\u001b[49m\u001b[43m(\u001b[49m\u001b[43mx\u001b[49m\u001b[38;5;241;43m.\u001b[39;49m\u001b[43mreshape\u001b[49m\u001b[43m(\u001b[49m\u001b[38;5;241;43m1\u001b[39;49m\u001b[43m,\u001b[49m\u001b[43m \u001b[49m\u001b[38;5;241;43m-\u001b[39;49m\u001b[38;5;241;43m1\u001b[39;49m\u001b[43m)\u001b[49m\u001b[43m)\u001b[49m\n",
      "File \u001b[1;32mc:\\Users\\ASUS\\Desktop\\student_resource 3\\env\\Lib\\site-packages\\sklearn\\utils\\_set_output.py:316\u001b[0m, in \u001b[0;36m_wrap_method_output.<locals>.wrapped\u001b[1;34m(self, X, *args, **kwargs)\u001b[0m\n\u001b[0;32m    314\u001b[0m \u001b[38;5;129m@wraps\u001b[39m(f)\n\u001b[0;32m    315\u001b[0m \u001b[38;5;28;01mdef\u001b[39;00m \u001b[38;5;21mwrapped\u001b[39m(\u001b[38;5;28mself\u001b[39m, X, \u001b[38;5;241m*\u001b[39margs, \u001b[38;5;241m*\u001b[39m\u001b[38;5;241m*\u001b[39mkwargs):\n\u001b[1;32m--> 316\u001b[0m     data_to_wrap \u001b[38;5;241m=\u001b[39m \u001b[43mf\u001b[49m\u001b[43m(\u001b[49m\u001b[38;5;28;43mself\u001b[39;49m\u001b[43m,\u001b[49m\u001b[43m \u001b[49m\u001b[43mX\u001b[49m\u001b[43m,\u001b[49m\u001b[43m \u001b[49m\u001b[38;5;241;43m*\u001b[39;49m\u001b[43margs\u001b[49m\u001b[43m,\u001b[49m\u001b[43m \u001b[49m\u001b[38;5;241;43m*\u001b[39;49m\u001b[38;5;241;43m*\u001b[39;49m\u001b[43mkwargs\u001b[49m\u001b[43m)\u001b[49m\n\u001b[0;32m    317\u001b[0m     \u001b[38;5;28;01mif\u001b[39;00m \u001b[38;5;28misinstance\u001b[39m(data_to_wrap, \u001b[38;5;28mtuple\u001b[39m):\n\u001b[0;32m    318\u001b[0m         \u001b[38;5;66;03m# only wrap the first output for cross decomposition\u001b[39;00m\n\u001b[0;32m    319\u001b[0m         return_tuple \u001b[38;5;241m=\u001b[39m (\n\u001b[0;32m    320\u001b[0m             _wrap_data_with_container(method, data_to_wrap[\u001b[38;5;241m0\u001b[39m], X, \u001b[38;5;28mself\u001b[39m),\n\u001b[0;32m    321\u001b[0m             \u001b[38;5;241m*\u001b[39mdata_to_wrap[\u001b[38;5;241m1\u001b[39m:],\n\u001b[0;32m    322\u001b[0m         )\n",
      "File \u001b[1;32mc:\\Users\\ASUS\\Desktop\\student_resource 3\\env\\Lib\\site-packages\\sklearn\\base.py:1473\u001b[0m, in \u001b[0;36m_fit_context.<locals>.decorator.<locals>.wrapper\u001b[1;34m(estimator, *args, **kwargs)\u001b[0m\n\u001b[0;32m   1466\u001b[0m     estimator\u001b[38;5;241m.\u001b[39m_validate_params()\n\u001b[0;32m   1468\u001b[0m \u001b[38;5;28;01mwith\u001b[39;00m config_context(\n\u001b[0;32m   1469\u001b[0m     skip_parameter_validation\u001b[38;5;241m=\u001b[39m(\n\u001b[0;32m   1470\u001b[0m         prefer_skip_nested_validation \u001b[38;5;129;01mor\u001b[39;00m global_skip_validation\n\u001b[0;32m   1471\u001b[0m     )\n\u001b[0;32m   1472\u001b[0m ):\n\u001b[1;32m-> 1473\u001b[0m     \u001b[38;5;28;01mreturn\u001b[39;00m \u001b[43mfit_method\u001b[49m\u001b[43m(\u001b[49m\u001b[43mestimator\u001b[49m\u001b[43m,\u001b[49m\u001b[43m \u001b[49m\u001b[38;5;241;43m*\u001b[39;49m\u001b[43margs\u001b[49m\u001b[43m,\u001b[49m\u001b[43m \u001b[49m\u001b[38;5;241;43m*\u001b[39;49m\u001b[38;5;241;43m*\u001b[39;49m\u001b[43mkwargs\u001b[49m\u001b[43m)\u001b[49m\n",
      "File \u001b[1;32mc:\\Users\\ASUS\\Desktop\\student_resource 3\\env\\Lib\\site-packages\\sklearn\\decomposition\\_pca.py:474\u001b[0m, in \u001b[0;36mPCA.fit_transform\u001b[1;34m(self, X, y)\u001b[0m\n\u001b[0;32m    451\u001b[0m \u001b[38;5;129m@_fit_context\u001b[39m(prefer_skip_nested_validation\u001b[38;5;241m=\u001b[39m\u001b[38;5;28;01mTrue\u001b[39;00m)\n\u001b[0;32m    452\u001b[0m \u001b[38;5;28;01mdef\u001b[39;00m \u001b[38;5;21mfit_transform\u001b[39m(\u001b[38;5;28mself\u001b[39m, X, y\u001b[38;5;241m=\u001b[39m\u001b[38;5;28;01mNone\u001b[39;00m):\n\u001b[0;32m    453\u001b[0m \u001b[38;5;250m    \u001b[39m\u001b[38;5;124;03m\"\"\"Fit the model with X and apply the dimensionality reduction on X.\u001b[39;00m\n\u001b[0;32m    454\u001b[0m \n\u001b[0;32m    455\u001b[0m \u001b[38;5;124;03m    Parameters\u001b[39;00m\n\u001b[1;32m   (...)\u001b[0m\n\u001b[0;32m    472\u001b[0m \u001b[38;5;124;03m    C-ordered array, use 'np.ascontiguousarray'.\u001b[39;00m\n\u001b[0;32m    473\u001b[0m \u001b[38;5;124;03m    \"\"\"\u001b[39;00m\n\u001b[1;32m--> 474\u001b[0m     U, S, _, X, x_is_centered, xp \u001b[38;5;241m=\u001b[39m \u001b[38;5;28;43mself\u001b[39;49m\u001b[38;5;241;43m.\u001b[39;49m\u001b[43m_fit\u001b[49m\u001b[43m(\u001b[49m\u001b[43mX\u001b[49m\u001b[43m)\u001b[49m\n\u001b[0;32m    475\u001b[0m     \u001b[38;5;28;01mif\u001b[39;00m U \u001b[38;5;129;01mis\u001b[39;00m \u001b[38;5;129;01mnot\u001b[39;00m \u001b[38;5;28;01mNone\u001b[39;00m:\n\u001b[0;32m    476\u001b[0m         U \u001b[38;5;241m=\u001b[39m U[:, : \u001b[38;5;28mself\u001b[39m\u001b[38;5;241m.\u001b[39mn_components_]\n",
      "File \u001b[1;32mc:\\Users\\ASUS\\Desktop\\student_resource 3\\env\\Lib\\site-packages\\sklearn\\decomposition\\_pca.py:547\u001b[0m, in \u001b[0;36mPCA._fit\u001b[1;34m(self, X)\u001b[0m\n\u001b[0;32m    545\u001b[0m \u001b[38;5;66;03m# Call different fits for either full or truncated SVD\u001b[39;00m\n\u001b[0;32m    546\u001b[0m \u001b[38;5;28;01mif\u001b[39;00m \u001b[38;5;28mself\u001b[39m\u001b[38;5;241m.\u001b[39m_fit_svd_solver \u001b[38;5;129;01min\u001b[39;00m (\u001b[38;5;124m\"\u001b[39m\u001b[38;5;124mfull\u001b[39m\u001b[38;5;124m\"\u001b[39m, \u001b[38;5;124m\"\u001b[39m\u001b[38;5;124mcovariance_eigh\u001b[39m\u001b[38;5;124m\"\u001b[39m):\n\u001b[1;32m--> 547\u001b[0m     \u001b[38;5;28;01mreturn\u001b[39;00m \u001b[38;5;28;43mself\u001b[39;49m\u001b[38;5;241;43m.\u001b[39;49m\u001b[43m_fit_full\u001b[49m\u001b[43m(\u001b[49m\u001b[43mX\u001b[49m\u001b[43m,\u001b[49m\u001b[43m \u001b[49m\u001b[43mn_components\u001b[49m\u001b[43m,\u001b[49m\u001b[43m \u001b[49m\u001b[43mxp\u001b[49m\u001b[43m,\u001b[49m\u001b[43m \u001b[49m\u001b[43mis_array_api_compliant\u001b[49m\u001b[43m)\u001b[49m\n\u001b[0;32m    548\u001b[0m \u001b[38;5;28;01melif\u001b[39;00m \u001b[38;5;28mself\u001b[39m\u001b[38;5;241m.\u001b[39m_fit_svd_solver \u001b[38;5;129;01min\u001b[39;00m [\u001b[38;5;124m\"\u001b[39m\u001b[38;5;124marpack\u001b[39m\u001b[38;5;124m\"\u001b[39m, \u001b[38;5;124m\"\u001b[39m\u001b[38;5;124mrandomized\u001b[39m\u001b[38;5;124m\"\u001b[39m]:\n\u001b[0;32m    549\u001b[0m     \u001b[38;5;28;01mreturn\u001b[39;00m \u001b[38;5;28mself\u001b[39m\u001b[38;5;241m.\u001b[39m_fit_truncated(X, n_components, xp)\n",
      "File \u001b[1;32mc:\\Users\\ASUS\\Desktop\\student_resource 3\\env\\Lib\\site-packages\\sklearn\\decomposition\\_pca.py:561\u001b[0m, in \u001b[0;36mPCA._fit_full\u001b[1;34m(self, X, n_components, xp, is_array_api_compliant)\u001b[0m\n\u001b[0;32m    557\u001b[0m         \u001b[38;5;28;01mraise\u001b[39;00m \u001b[38;5;167;01mValueError\u001b[39;00m(\n\u001b[0;32m    558\u001b[0m             \u001b[38;5;124m\"\u001b[39m\u001b[38;5;124mn_components=\u001b[39m\u001b[38;5;124m'\u001b[39m\u001b[38;5;124mmle\u001b[39m\u001b[38;5;124m'\u001b[39m\u001b[38;5;124m is only supported if n_samples >= n_features\u001b[39m\u001b[38;5;124m\"\u001b[39m\n\u001b[0;32m    559\u001b[0m         )\n\u001b[0;32m    560\u001b[0m \u001b[38;5;28;01melif\u001b[39;00m \u001b[38;5;129;01mnot\u001b[39;00m \u001b[38;5;241m0\u001b[39m \u001b[38;5;241m<\u001b[39m\u001b[38;5;241m=\u001b[39m n_components \u001b[38;5;241m<\u001b[39m\u001b[38;5;241m=\u001b[39m \u001b[38;5;28mmin\u001b[39m(n_samples, n_features):\n\u001b[1;32m--> 561\u001b[0m     \u001b[38;5;28;01mraise\u001b[39;00m \u001b[38;5;167;01mValueError\u001b[39;00m(\n\u001b[0;32m    562\u001b[0m         \u001b[38;5;124mf\u001b[39m\u001b[38;5;124m\"\u001b[39m\u001b[38;5;124mn_components=\u001b[39m\u001b[38;5;132;01m{\u001b[39;00mn_components\u001b[38;5;132;01m}\u001b[39;00m\u001b[38;5;124m must be between 0 and \u001b[39m\u001b[38;5;124m\"\u001b[39m\n\u001b[0;32m    563\u001b[0m         \u001b[38;5;124mf\u001b[39m\u001b[38;5;124m\"\u001b[39m\u001b[38;5;124mmin(n_samples, n_features)=\u001b[39m\u001b[38;5;132;01m{\u001b[39;00m\u001b[38;5;28mmin\u001b[39m(n_samples,\u001b[38;5;250m \u001b[39mn_features)\u001b[38;5;132;01m}\u001b[39;00m\u001b[38;5;124m with \u001b[39m\u001b[38;5;124m\"\u001b[39m\n\u001b[0;32m    564\u001b[0m         \u001b[38;5;124mf\u001b[39m\u001b[38;5;124m\"\u001b[39m\u001b[38;5;124msvd_solver=\u001b[39m\u001b[38;5;132;01m{\u001b[39;00m\u001b[38;5;28mself\u001b[39m\u001b[38;5;241m.\u001b[39m_fit_svd_solver\u001b[38;5;132;01m!r}\u001b[39;00m\u001b[38;5;124m\"\u001b[39m\n\u001b[0;32m    565\u001b[0m     )\n\u001b[0;32m    567\u001b[0m \u001b[38;5;28mself\u001b[39m\u001b[38;5;241m.\u001b[39mmean_ \u001b[38;5;241m=\u001b[39m xp\u001b[38;5;241m.\u001b[39mmean(X, axis\u001b[38;5;241m=\u001b[39m\u001b[38;5;241m0\u001b[39m)\n\u001b[0;32m    568\u001b[0m \u001b[38;5;66;03m# When X is a scipy sparse matrix, self.mean_ is a numpy matrix, so we need\u001b[39;00m\n\u001b[0;32m    569\u001b[0m \u001b[38;5;66;03m# to transform it to a 1D array. Note that this is not the case when X\u001b[39;00m\n\u001b[0;32m    570\u001b[0m \u001b[38;5;66;03m# is a scipy sparse array.\u001b[39;00m\n\u001b[0;32m    571\u001b[0m \u001b[38;5;66;03m# TODO: remove the following two lines when scikit-learn only depends\u001b[39;00m\n\u001b[0;32m    572\u001b[0m \u001b[38;5;66;03m# on scipy versions that no longer support scipy.sparse matrices.\u001b[39;00m\n",
      "\u001b[1;31mValueError\u001b[0m: n_components=200 must be between 0 and min(n_samples, n_features)=1 with svd_solver='full'"
     ]
    }
   ],
   "source": [
    "out = embed.get_embeddings(\"voltage\",\"DistilBERT\")"
   ]
  },
  {
   "cell_type": "code",
   "execution_count": 72,
   "id": "002406b1",
   "metadata": {},
   "outputs": [
    {
     "data": {
      "text/plain": [
       "tensor([[ 6.1153e-01, -2.2822e-01, -4.0104e-02, -2.4715e-01,  4.3591e-01,\n",
       "         -1.6692e-02, -7.5652e-02,  7.9021e-02, -2.5872e-01, -3.0860e-01,\n",
       "         -6.4919e-02, -1.6826e-01,  5.5005e-02,  5.4865e-01, -2.4288e-01,\n",
       "         -1.0549e-01,  3.0563e-01,  9.4616e-02,  8.5418e-01,  1.7199e-01,\n",
       "          7.5500e-03,  1.7044e-01,  4.0695e-01,  2.5825e-01, -1.1371e-01,\n",
       "         -1.5543e-02, -9.1520e-02,  1.3716e-01, -1.6941e-01, -6.6940e-02,\n",
       "          3.1041e-01, -3.0132e-01,  2.4079e-01,  3.8452e-01, -3.9812e-01,\n",
       "         -4.1768e-01, -8.6993e-02,  1.5503e-01, -1.9388e-01, -1.7617e-01,\n",
       "          2.0411e-01, -6.2581e-01, -3.9971e-02, -2.6214e-01,  4.2831e-01,\n",
       "         -2.2318e-01,  5.1722e-01, -1.0908e-01, -1.4001e-02, -1.3396e-01,\n",
       "         -6.6398e-01, -9.1401e-03, -3.6560e-01,  4.9287e-01,  2.1961e-01,\n",
       "         -1.1757e-01, -1.1236e-01,  2.1149e-01,  3.4264e-01, -1.9045e-01,\n",
       "          2.8202e-01, -1.4681e-01, -5.5124e-02,  1.8556e-01,  2.2007e-01,\n",
       "          1.9641e-01,  2.9406e-01, -1.5163e-01, -3.8559e-01,  5.5471e-01,\n",
       "         -3.3439e-01,  3.8091e-01, -1.8831e-01, -7.7112e-03,  1.7839e-01,\n",
       "         -2.5200e-02,  9.9860e-02,  8.8342e-04, -1.0077e-01,  8.3892e-02,\n",
       "         -7.5781e-02, -2.9172e-01,  3.8320e-01, -3.0299e-01, -2.1025e-01,\n",
       "         -8.0630e-02, -2.1555e-01,  2.8932e-03,  4.3967e-01,  1.1996e-01,\n",
       "         -4.0548e-02, -9.1130e-02, -1.9291e-01,  1.4002e-01,  6.8290e-02,\n",
       "         -6.5958e-01, -3.3354e-01, -1.8442e-01,  6.0889e-01, -1.8676e-01,\n",
       "          3.0344e-01, -8.0766e-02, -2.9936e-01, -4.9985e-02, -3.6830e-01,\n",
       "         -2.8805e-01,  2.4010e-01, -1.3613e-02, -5.9603e-03, -5.4599e-01,\n",
       "         -5.1209e-01,  4.5301e-01,  1.0498e-01, -2.5231e-01, -5.8210e-01,\n",
       "          4.4713e-01,  9.0167e-02,  1.0740e-01,  2.3522e-01,  1.9799e-01,\n",
       "         -3.4093e-03,  4.8365e-01,  1.9881e-01,  3.5777e-01, -7.9528e-02,\n",
       "          3.3229e-01,  2.5517e-01,  2.1646e-01,  2.0446e-01, -2.6424e-02,\n",
       "         -2.4030e-01,  2.7607e-01,  1.4458e-01, -2.9907e-01, -3.9542e-01,\n",
       "         -1.4988e-02,  4.5647e-01,  3.2148e-01,  7.3064e-02, -2.3446e-01,\n",
       "          1.4347e-01,  9.4900e-01,  3.6229e-01,  2.2465e-01,  1.7788e-01,\n",
       "         -3.8387e-02, -1.0705e-01, -1.1128e-01,  7.3933e-02,  1.6614e-01,\n",
       "          6.7778e-02,  3.3665e-01, -4.9039e-01, -3.9769e-01, -1.0492e-02,\n",
       "         -1.2169e-01,  3.1074e-01,  4.9705e-01, -2.3045e-01, -7.1602e-02,\n",
       "          4.7811e-01,  3.7045e-01,  5.3310e-02,  6.5233e-01, -1.4781e-01,\n",
       "         -1.3870e-01, -6.6303e-02,  4.0897e-01,  6.1635e-02,  8.2817e-02,\n",
       "         -3.4513e-01, -3.3420e-01,  1.3161e-01,  2.4261e-01,  9.1172e-02,\n",
       "          4.5936e-01,  1.3658e-02, -5.9469e-02, -3.8174e-01, -1.4787e-01,\n",
       "         -4.9565e-01,  8.5502e-01, -2.4853e-01,  8.7660e-02,  2.3531e-01,\n",
       "          1.4276e-02,  1.8623e-01, -4.8117e-01, -1.4269e-01, -2.2988e-01,\n",
       "          1.0588e-01, -7.8066e-02, -3.2255e-01, -4.9783e-01,  5.6497e-01,\n",
       "         -8.5206e-01,  5.1341e-01, -4.7560e-01, -4.2949e-02, -2.6134e-01,\n",
       "         -1.2461e-01, -2.8155e-01,  2.2914e-01,  4.8205e-01, -6.5199e-01,\n",
       "          8.5918e-01,  6.8662e-02, -2.9438e-01,  3.9237e-01, -3.2461e-01,\n",
       "         -1.9081e-01,  4.0037e-02, -1.2827e-01, -4.1470e-01, -5.5755e-02,\n",
       "         -4.3205e-01, -1.2495e-01, -5.0424e-01,  1.9315e-01, -4.9891e-04,\n",
       "          2.1834e-01,  1.1445e-01,  1.8372e-01,  8.1963e-01, -5.1912e-01,\n",
       "          6.9940e-01,  5.3910e-01,  3.5705e-01,  1.7086e-01, -5.6842e-01,\n",
       "         -2.1974e-01,  2.7186e-02,  1.5971e-01, -1.7323e-01, -3.8894e-01,\n",
       "         -8.6695e-02,  3.1041e-01,  7.5488e-02, -8.3151e-02,  3.4347e-02,\n",
       "         -1.5048e-01,  4.4553e-01,  4.9215e-02,  6.0133e-01, -2.0692e-01,\n",
       "          1.0584e-01,  1.4735e-01, -4.1484e-01,  2.6159e-01, -1.2217e-01,\n",
       "          9.4886e-02, -4.4739e-01,  3.0591e-02,  5.1900e-02, -1.2240e-01,\n",
       "         -1.7681e-01, -1.4120e-01, -2.8579e-01, -9.2956e-02, -8.1633e-02,\n",
       "         -2.9969e-01, -3.6685e-01,  5.3587e-01, -6.0516e-01, -3.8526e-01,\n",
       "         -1.2941e-01, -8.8526e-02, -6.7201e-02,  5.8047e-01, -5.0530e-02,\n",
       "          6.4486e-02,  1.0949e-01,  2.2327e-01, -8.5596e-01, -2.4303e-01,\n",
       "         -7.7285e-01,  2.0867e-01,  2.5127e-01, -5.7081e-02,  1.8198e-01,\n",
       "          1.8732e-02,  3.5147e-01, -8.7137e-02,  1.3663e-01,  2.4436e-01,\n",
       "         -2.1240e-01,  3.1143e-02, -1.3956e-01,  3.8421e-01, -8.6937e-01,\n",
       "         -3.7053e-01,  2.4504e-01, -2.0961e-01,  1.2068e-02,  2.0806e-01,\n",
       "          1.6638e-01,  4.5998e-01,  3.0512e-01, -6.5684e-02, -2.2088e-01,\n",
       "         -2.8680e-01, -3.3333e-01, -2.0574e-01, -8.7662e-02, -5.4558e-02,\n",
       "          7.6640e-02, -2.0141e-01, -5.9452e-01, -4.5804e+00, -4.1595e-01,\n",
       "         -3.1639e-01,  1.1988e-01,  5.1922e-02, -3.4852e-01,  6.3026e-01,\n",
       "          2.3907e-01, -1.3628e-01, -2.8002e-02, -5.0813e-02,  6.6160e-02,\n",
       "          9.5343e-02,  5.3619e-01,  4.9530e-02, -2.9226e-01,  1.4011e-01,\n",
       "         -2.5185e-01, -9.7459e-03,  5.5457e-01,  3.5804e-02, -3.0646e-01,\n",
       "          1.6191e-01, -3.5542e-01, -8.9320e-02,  2.3486e-01, -4.7686e-01,\n",
       "          3.2899e-01, -6.2441e-01, -1.6940e-01, -3.3391e-01, -2.6997e-01,\n",
       "          3.8927e-03,  2.3691e-01,  7.9584e-02,  5.7918e-02,  9.2247e-02,\n",
       "         -3.5666e-02,  8.1238e-01,  2.4530e-02,  6.7835e-02,  1.3790e-01,\n",
       "          6.1672e-01,  8.7629e-01, -1.7063e-01,  5.2540e-01, -1.6652e-03,\n",
       "          2.1496e-01, -1.3757e-01,  2.6550e-01, -9.9683e-02, -1.3725e-02,\n",
       "          6.5383e-01, -4.6506e-01,  6.3474e-02,  6.7090e-02, -1.7884e-01,\n",
       "         -9.5414e-02, -2.6444e-02, -1.5220e-01, -6.8432e-01, -4.9525e-01,\n",
       "         -4.7539e-01,  1.3601e-01, -5.5023e-01,  1.4070e-01, -6.0100e-01,\n",
       "         -2.8998e-01,  2.8456e-01,  1.6750e-03,  1.1100e-01, -5.9744e-01,\n",
       "          1.3098e-01, -1.0486e+00, -2.1928e-01, -1.5309e-01, -2.8010e-02,\n",
       "          8.5865e-02,  7.6177e-01, -3.9675e-01, -4.0802e-01, -2.1953e-01,\n",
       "          3.4471e-01,  3.7211e-01,  2.0229e-01,  1.2977e-01,  6.0838e-01,\n",
       "         -9.5558e-01,  1.6192e-01,  8.7780e-01,  9.1342e-02,  3.5173e-02,\n",
       "          4.9035e-01, -1.4528e-01,  6.2434e-02,  2.5239e-01,  1.2196e-01,\n",
       "         -1.1027e-01, -7.1295e-02, -1.1437e-02, -3.1845e-01, -1.7799e-01,\n",
       "          8.0067e-02, -6.1907e-01, -7.4824e-02,  1.6273e-01, -5.0653e-01,\n",
       "          1.7678e-03, -1.4656e-01,  9.7834e-02,  2.4190e-01, -3.7297e-01,\n",
       "         -1.9698e-01,  9.9577e-02,  2.9754e-01, -3.1062e-02, -3.1336e-01,\n",
       "          2.8243e-01,  2.9553e-01,  1.5204e-01, -1.1624e-01,  2.7412e-01,\n",
       "         -2.6776e-01, -5.1188e-01, -4.6714e-01,  1.6927e-01, -2.9051e-01,\n",
       "         -3.3797e-01, -6.4062e-01,  1.4756e-01, -7.6537e-02,  4.3673e-01,\n",
       "          6.7433e-02, -2.8201e-01, -1.6108e-02, -2.4976e-01, -5.0476e-01,\n",
       "          4.3205e-02, -4.1399e-01,  2.2307e-01,  2.8355e-01, -1.6625e-01,\n",
       "         -3.7643e-01, -2.5821e-02,  6.0326e-01,  1.6591e-02, -4.9318e-01,\n",
       "         -1.4346e-01,  5.0169e-02,  2.7136e-01,  3.7745e-01, -3.3242e-01,\n",
       "          4.2140e-03,  3.0254e-01, -3.1865e-01, -6.1868e-02,  4.8017e-01,\n",
       "         -2.2723e-01, -1.8220e-01, -1.1041e-01, -2.1458e-01,  8.3829e-02,\n",
       "         -1.2549e-02, -1.2842e-01,  3.1980e-01,  8.9771e-01,  1.0309e-01,\n",
       "         -3.1693e-01, -2.2708e-01, -1.4920e-01,  5.8504e-02, -1.8740e-01,\n",
       "          9.2047e-02, -2.7567e-01, -1.0745e-01, -4.5513e-02,  3.3854e-02,\n",
       "         -4.5754e-02,  3.2451e-01,  6.0792e-01,  2.2869e-01,  1.9705e-02,\n",
       "         -6.6102e-02,  2.1845e-01,  1.2956e-01, -5.0015e-01, -9.2882e-01,\n",
       "          1.1248e-01,  3.7544e-01,  4.7912e-01,  6.9932e-01, -3.9784e-01,\n",
       "         -1.2253e-01, -6.4354e-01, -4.7961e-01, -1.1499e-01, -1.2223e-01,\n",
       "          6.4334e-01, -4.9262e-02,  5.5507e-02, -1.5819e-02,  2.4226e-01,\n",
       "          9.5882e-02, -8.1218e-02,  2.6792e-01, -1.8572e-02,  4.4645e-01,\n",
       "          1.0917e-01, -8.4313e-01,  4.9857e-03,  4.1612e-01, -3.0891e-01,\n",
       "          6.2784e-02, -3.4350e-01, -3.4890e-01, -8.6607e-02,  2.2199e-01,\n",
       "         -9.5042e-02, -3.2220e-01, -4.8787e-01, -3.3735e-01, -3.3417e-01,\n",
       "          1.2787e-01,  8.5697e-02,  1.0806e-01, -3.2845e-01,  6.5281e-02,\n",
       "         -7.5644e-01,  6.8082e-02,  1.1776e-01, -3.3796e-01,  1.3486e-01,\n",
       "          3.1585e-01,  9.3514e-02,  2.5678e-01,  1.4847e-02, -1.1142e+00,\n",
       "          3.5150e-01, -1.4718e-01,  4.3685e-01, -4.6433e-01, -1.9894e-01,\n",
       "         -4.8035e-01,  7.6420e-02,  6.0781e-02, -2.6233e-02,  4.9699e-01,\n",
       "          3.5429e-02,  8.7558e-02,  4.2253e-01, -1.0464e-01, -2.1174e-01,\n",
       "         -1.8814e-01, -2.6502e-01,  6.6189e-01, -9.7585e-01,  2.4499e-01,\n",
       "         -7.6323e-02,  2.6535e-01, -6.9641e-02, -3.5042e-01, -6.1279e-02,\n",
       "         -2.6943e-01,  6.8963e-01, -2.4271e-01,  4.0488e-01, -8.8321e-02,\n",
       "          2.2389e-02, -2.9692e-01,  4.4821e-01, -4.4633e-01,  2.2534e-02,\n",
       "          2.2263e-01,  3.6817e-01,  1.2274e-01, -3.2659e-01,  2.2652e-01,\n",
       "         -1.4170e-01, -3.6440e-01, -2.9018e-01,  5.7228e-01,  8.0040e-01,\n",
       "          7.0569e-01, -7.9635e-02,  4.1171e-01,  1.8250e-01, -3.3131e-01,\n",
       "          1.3308e-01, -3.4991e-01,  2.4815e-01,  1.9470e-01, -5.4118e-01,\n",
       "          6.5350e-02,  2.5843e-02,  1.1984e-01,  1.8364e-01,  7.4154e-02,\n",
       "          3.8552e-02, -4.7852e-01,  6.9892e-02, -1.6209e-01,  4.6613e-01,\n",
       "          5.2337e-01, -1.5371e-01, -1.4596e-01,  1.1204e-01,  4.8904e-02,\n",
       "         -2.2486e-01, -1.2877e-01, -3.5141e-03, -1.1506e-01, -1.4769e-01,\n",
       "         -3.5997e-01,  2.8792e-01,  3.7838e-02, -4.2288e-02,  3.7694e-01,\n",
       "         -2.0818e-01, -3.6736e-01,  5.9568e-02,  4.1154e-02,  4.3699e-01,\n",
       "          2.9174e-01, -5.1727e-02,  3.6256e-01,  7.9238e-02, -1.6007e-01,\n",
       "         -4.4832e-01,  1.4472e-01,  2.6189e-01,  3.2888e-01,  3.1113e-01,\n",
       "          8.0461e-02,  5.6188e-01,  5.9654e-01, -4.9263e-02,  3.9213e-02,\n",
       "         -6.9412e-03,  4.7329e-02,  5.4562e-01,  2.0039e-01,  5.8471e-01,\n",
       "          4.4009e-01,  4.4864e-01, -1.5328e-03, -1.0941e-01, -3.7010e-04,\n",
       "          2.5099e-01, -3.2352e-01,  3.2558e-01,  3.6354e-01, -4.8206e-01,\n",
       "          4.3704e-01, -6.5681e-01, -1.9421e-01, -3.4452e-02,  2.1492e-01,\n",
       "          4.0094e-01,  1.9037e-01, -6.6291e-01, -3.7693e-01, -2.4784e-01,\n",
       "          2.1506e-01, -4.5337e-01,  1.3876e-03,  4.2104e-01, -1.1961e-01,\n",
       "         -2.9476e-01, -2.5098e-01, -1.7164e-01,  4.9889e-01, -4.6517e-01,\n",
       "         -2.8267e-01,  5.2519e-01, -1.0864e-01,  2.4985e-01,  1.9718e-01,\n",
       "          1.8094e-01, -2.8345e-01, -4.8017e-02,  3.1447e-01,  2.9368e-01,\n",
       "         -1.7385e-01, -4.1730e-01,  5.2513e-01, -7.7370e-01, -1.8516e-01,\n",
       "          3.2600e-03,  2.8945e-02, -4.8247e-01,  4.8187e-01, -1.3766e-01,\n",
       "         -3.6256e-01, -1.4449e-01,  6.4981e-02, -2.3958e-01, -7.0967e-02,\n",
       "         -4.8754e-01,  6.9710e-02,  2.5298e-01,  7.0481e-01, -1.3324e-01,\n",
       "          4.6824e-01, -1.0461e-01, -1.4810e-01,  3.9678e-01, -2.7559e-01,\n",
       "         -4.0881e-02, -8.2429e-01, -4.5353e-01,  6.0279e-01,  4.7637e-02,\n",
       "         -7.9921e-02,  7.0984e-02, -4.2161e-01,  2.4892e-01,  9.6252e-02,\n",
       "          3.0839e-02, -2.5464e-01, -4.3026e-01, -1.2528e-01, -3.0049e-01,\n",
       "         -1.2745e-01,  6.6911e-01, -3.5793e-01, -8.2414e-01,  5.0903e-02,\n",
       "          2.2558e-01,  4.4847e-02, -9.6627e-02, -2.3358e-01,  2.0559e-01,\n",
       "          5.0540e-01, -3.2697e-01,  2.1592e-01,  2.9869e-01,  4.8697e-01,\n",
       "          2.9275e-02,  4.2869e-01, -4.3194e-01,  2.1169e-01,  2.2613e-01,\n",
       "          5.1819e-01,  5.1408e-02, -1.7037e+00, -3.0279e-01, -5.4455e-01,\n",
       "         -2.6863e-01, -6.6883e-02,  4.7248e-01,  3.9169e-01, -3.1026e-01,\n",
       "          3.9476e-01,  1.5385e-01,  4.0976e-01,  1.1254e-01, -9.9741e-02,\n",
       "         -2.7388e-02,  4.7822e-01,  2.1689e-01]])"
      ]
     },
     "execution_count": 72,
     "metadata": {},
     "output_type": "execute_result"
    }
   ],
   "source": [
    "out[:,1,:]"
   ]
  },
  {
   "cell_type": "code",
   "execution_count": null,
   "id": "d8654cbb",
   "metadata": {},
   "outputs": [],
   "source": []
  }
 ],
 "metadata": {
  "kernelspec": {
   "display_name": "Python 3",
   "language": "python",
   "name": "python3"
  },
  "language_info": {
   "codemirror_mode": {
    "name": "ipython",
    "version": 3
   },
   "file_extension": ".py",
   "mimetype": "text/x-python",
   "name": "python",
   "nbconvert_exporter": "python",
   "pygments_lexer": "ipython3",
   "version": "3.11.9"
  }
 },
 "nbformat": 4,
 "nbformat_minor": 5
}
